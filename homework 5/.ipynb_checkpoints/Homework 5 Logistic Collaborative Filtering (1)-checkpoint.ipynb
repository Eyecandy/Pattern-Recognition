{
 "cells": [
  {
   "cell_type": "markdown",
   "metadata": {},
   "source": [
    "In the class we try to predict the restaurant rating using the dot product. One thing we found was that it predict a lot of non-sense rating like negative number or 6. In this homework, we are going to fix this problem"
   ]
  },
  {
   "cell_type": "markdown",
   "metadata": {},
   "source": [
    "The problem with dot product is that it is unbounded. So we need to bound it between 0 and 5. The most common way to do this is to use logistic function to turn $(-\\infty, \\infty)$ to a bounded region.\n",
    "$$ \\theta(s) = \\frac{1}{1 + e^{-s}}$$"
   ]
  },
  {
   "cell_type": "markdown",
   "metadata": {},
   "source": [
    "1) Given the restaurant attribute $\\vec{\\rho}^{(r)}$ and person preference $\\vec{\\pi}^{(p)}$. Write down the prediction formula which gives the output in the range of $(0,5)$.\n",
    "\n",
    "Hint: use dot product and logistic function then scale it properly."
   ]
  },
  {
   "cell_type": "code",
   "execution_count": 88,
   "metadata": {
    "collapsed": true
   },
   "outputs": [],
   "source": [
    "%matplotlib inline\n",
    "import numpy as np\n",
    "from matplotlib import pyplot as plt"
   ]
  },
  {
   "cell_type": "code",
   "execution_count": 89,
   "metadata": {
    "collapsed": false
   },
   "outputs": [],
   "source": [
    "#from exercise 10\n",
    "a = 5\n",
    "def bound(s):\n",
    "    return (1./(1 + np.exp(-s))) * a\n",
    "def guess(R,P):\n",
    "    return bound(np.dot(R,P))\n",
    "def cost(R, P):\n",
    "    return sum((T - guess(R, P))**2)\n",
    "\n",
    "def score(R, P):\n",
    "    return np.sum(H * (T - guess(R, P))**2)\n",
    "\n",
    "\n",
    "\n",
    "\n",
    "\n",
    "\n",
    "\n",
    "\n"
   ]
  },
  {
   "cell_type": "markdown",
   "metadata": {},
   "source": [
    "2) Write down the cost function with your prediction formula above."
   ]
  },
  {
   "cell_type": "code",
   "execution_count": null,
   "metadata": {
    "collapsed": true
   },
   "outputs": [],
   "source": []
  },
  {
   "cell_type": "markdown",
   "metadata": {},
   "source": [
    "3) (Optional) Show that if your predition formula is (Do it on paper by hand. It's actually just a chain rule.)\n",
    "$$Guess_{r,p} = a \\theta(\\vec{\\rho}^{(r)} \\cdot \\vec{\\pi}^{(p)}) + d$$\n",
    "\n",
    "\n",
    "\n",
    "Then the derivative is given by\n",
    "$$\n",
    "\t\\frac{\\partial{c}}{\\partial{\\pi^{(p)}_i}} =\n",
    "\t\\sum_r 2 h_{rp} \\left[ a \\cdot \\frac{1}{1 + e^{ -\\vec{\\rho}^{(r)} \\cdot \\vec{\\pi}^{(p)} } }  + d - T_{rp} \\right] \\cdot \\frac{ a e^{ -\\vec{\\rho}^{(r)} \\cdot \\vec{\\pi}^{(p)}} }{\\left( 1 + e^{ -\\vec{\\rho}^{(r)} \\cdot \\vec{\\pi}^{(p)}} \\right)^2} \\rho^{(r)}_i\n",
    "$$\n",
    "and\n",
    "$$\n",
    "\t\\frac{\\partial{c}}{\\partial{\\rho^{(r)}_i}} =\n",
    "\t\\sum_p 2 h_{rp} \\left[ a \\cdot \\frac{1}{1 + e^{ -\\vec{\\rho}^{(r)} \\cdot \\vec{\\pi}^{(p)} } }  + d - T_{rp} \\right] \\cdot \\frac{ a e^{ -\\vec{\\rho}^{(r)} \\cdot \\vec{\\pi}^{(p)}} }{\\left( 1 + e^{ -\\vec{\\rho}^{(r)} \\cdot \\vec{\\pi}^{(p)}} \\right)^2} \\pi^{(p)}_i\n",
    "$$\n",
    "\n"
   ]
  },
  {
   "cell_type": "code",
   "execution_count": null,
   "metadata": {
    "collapsed": true
   },
   "outputs": [],
   "source": []
  },
  {
   "cell_type": "markdown",
   "metadata": {},
   "source": [
    "4) Write the above two equations in matrix form given that matrix\n",
    "\n",
    "$$\n",
    "    S_{rp} = 2 h \\otimes \\left[ a \\cdot \\frac{1}{1 + e^{ -R^T P } }  + d - T \\right] \\cdot \\frac{ a e^{ -R^T P} }{\\left( 1 + e^{ R^T P} \\right)^2}\n",
    "$$\n",
    "where the exponential is element-wise exponential(yes there is such thing as exponential of matrix but that's not what we want).\n",
    "\n",
    "The partial derivative should look super simple in terms of $S$."
   ]
  },
  {
   "cell_type": "markdown",
   "metadata": {
    "collapsed": true
   },
   "source": [
    "\n"
   ]
  },
  {
   "cell_type": "markdown",
   "metadata": {},
   "source": [
    "5) Write down the update rule for R and P. Use $a$ and $d$ you found in 1."
   ]
  },
  {
   "cell_type": "code",
   "execution_count": null,
   "metadata": {
    "collapsed": false
   },
   "outputs": [],
   "source": []
  },
  {
   "cell_type": "markdown",
   "metadata": {},
   "source": [
    "6) Given the rating matrix we use in class, use this new prediction function and update rule to find $R$ and $P$."
   ]
  },
  {
   "cell_type": "code",
   "execution_count": 90,
   "metadata": {
    "collapsed": false
   },
   "outputs": [],
   "source": [
    "npeople = len(names)\n",
    "nrest = len(rnames)\n",
    "nfeature = 7\n",
    "np.random.seed(17)\n",
    "P = np.random.randn(nfeature, npeople)\n",
    "\n",
    "l = 0.005\n",
    "\n",
    "a = 5\n",
    "def theta(s):\n",
    "    return (1./(1 + np.exp(-s)))\n",
    "\n",
    "def find_R_P(R, P):\n",
    "    l = 0.001\n",
    "    \n",
    "    for i in xrange(100000):\n",
    "        RP = np.dot(R.T, P)\n",
    "        HT = (2 * H * l) * (  (a * theta(RP)) + d - T  ) * (  (a * np.exp(-RP))/(1 + np.exp(-RP))**2  )\n",
    "        \n",
    "        P = P - np.dot(R, HT)\n",
    "        R = R - np.dot(P, HT.T)\n",
    "    return R, P\n",
    "\n"
   ]
  },
  {
   "cell_type": "markdown",
   "metadata": {},
   "source": [
    "7) Use the code we had in exercise to show the prediction table."
   ]
  },
  {
   "cell_type": "code",
   "execution_count": 91,
   "metadata": {
    "collapsed": true
   },
   "outputs": [],
   "source": [
    "def read_rating():\n",
    "    with open('rating.csv') as f:\n",
    "        iline = 0\n",
    "        lines = f.readlines()\n",
    "        useful_lines = lines[3:]\n",
    "\n",
    "        names = lines[2].split(',')[2:]\n",
    "        names = map(lambda x: x.strip(), names)\n",
    "\n",
    "        all_ratings = []\n",
    "        all_defined = []\n",
    "        rnames = []\n",
    "        for iline, line in enumerate(useful_lines):\n",
    "            tokens = line.split(',')\n",
    "            tokens = map(lambda x: x.strip(), tokens)\n",
    "            rname = tokens[1]\n",
    "            ratings = tokens[2:]\n",
    "            defined = map(lambda x: 0 if x=='' or x=='\"' else 1, ratings )\n",
    "            def clean_cast(x):\n",
    "                # print x\n",
    "                return 0 if x=='' or x=='\"' else float(x)\n",
    "            ratings = map(lambda x: clean_cast(x), ratings)\n",
    "            all_ratings.append(ratings)\n",
    "            all_defined.append(defined)\n",
    "            rnames.append(rname)\n",
    "        #print all_ratings, all_defined , rnames\n",
    "        T = np.array(all_ratings)\n",
    "        H = np.array(all_defined)\n",
    "    return T, H, names, rnames\n",
    "T, H, names, rnames = read_rating()\n",
    "\n"
   ]
  },
  {
   "cell_type": "code",
   "execution_count": null,
   "metadata": {
    "collapsed": false
   },
   "outputs": [],
   "source": []
  },
  {
   "cell_type": "code",
   "execution_count": 92,
   "metadata": {
    "collapsed": true
   },
   "outputs": [],
   "source": [
    "from IPython.display import HTML\n",
    "\n",
    "class TableCell:\n",
    "    \n",
    "    def __init__(self, text, tc=None, color=None):\n",
    "        self.text = text\n",
    "        self.tc = tc\n",
    "        self.color = color\n",
    "    \n",
    "    def to_html(self):\n",
    "        return '<td>%s</td>'%self.text\n",
    "\n",
    "#the rating and guess matrix has different convention from the notes so be sure to transpose it first\n",
    "def maketable(rating, has_rating, guess, restaurants, names):\n",
    "    n_rests = len(restaurants)\n",
    "    n_names = len(names)\n",
    "    tab = np.empty((n_rests+1, n_names+1),dtype='object')\n",
    "    #print tab.shape\n",
    "\n",
    "    for irest in range(n_rests):\n",
    "        tab[irest+1,0] = restaurants[irest]\n",
    "\n",
    "    for iname in range(n_names):\n",
    "        tab[0,iname+1] = names[iname]\n",
    "\n",
    "    for irest in range(n_rests):\n",
    "        for iname in range(n_names):\n",
    "            if not has_rating[iname, irest]:\n",
    "                tab[irest+1, iname+1] = TableCell('<span style=\"color:red\">%3.2f</span>'%(guess[iname, irest]))\n",
    "            else:\n",
    "                tab[irest+1, iname+1] = TableCell('<span style=\"color:blue\">%3.2f</span><span style=\"color:red\">(%3.2f)</span>'%(rating[iname, irest], guess[iname, irest]))\n",
    "    #now convert tab array to nice html table\n",
    "    nrow, ncol = tab.shape\n",
    "    t = []\n",
    "    t.append('<table>')\n",
    "    for irow in range(nrow):\n",
    "        t.append('<tr>')\n",
    "        for icol in range(ncol):\n",
    "            cell = tab[irow,icol]\n",
    "            if cell is not None:\n",
    "                if isinstance(cell,TableCell):\n",
    "                    t.append(tab[irow, icol].to_html())\n",
    "                else:\n",
    "                    t.append('<td>')\n",
    "                    t.append(tab[irow, icol])\n",
    "                    t.append('</td>')\n",
    "            else:\n",
    "                t.append('<td></td>')\n",
    "        t.append('</tr>')  \n",
    "    t.append('</table>')\n",
    "    return '\\n'.join(t)"
   ]
  },
  {
   "cell_type": "code",
   "execution_count": 93,
   "metadata": {
    "collapsed": false
   },
   "outputs": [
    {
     "ename": "NameError",
     "evalue": "global name 'h' is not defined",
     "output_type": "error",
     "traceback": [
      "\u001b[0;31m---------------------------------------------------------------------------\u001b[0m",
      "\u001b[0;31mNameError\u001b[0m                                 Traceback (most recent call last)",
      "\u001b[0;32m<ipython-input-93-6d14d76bac84>\u001b[0m in \u001b[0;36m<module>\u001b[0;34m()\u001b[0m\n\u001b[0;32m----> 1\u001b[0;31m \u001b[0mR\u001b[0m\u001b[0;34m,\u001b[0m\u001b[0mP\u001b[0m \u001b[0;34m=\u001b[0m \u001b[0mfind_R_P\u001b[0m\u001b[0;34m(\u001b[0m\u001b[0mR\u001b[0m\u001b[0;34m,\u001b[0m\u001b[0mP\u001b[0m\u001b[0;34m)\u001b[0m\u001b[0;34m\u001b[0m\u001b[0m\n\u001b[0m\u001b[1;32m      2\u001b[0m \u001b[0;34m\u001b[0m\u001b[0m\n\u001b[1;32m      3\u001b[0m \u001b[0mG\u001b[0m \u001b[0;34m=\u001b[0m \u001b[0mguess\u001b[0m\u001b[0;34m(\u001b[0m\u001b[0mR\u001b[0m\u001b[0;34m,\u001b[0m\u001b[0mP\u001b[0m\u001b[0;34m)\u001b[0m\u001b[0;34m\u001b[0m\u001b[0m\n\u001b[1;32m      4\u001b[0m \u001b[0;34m\u001b[0m\u001b[0m\n\u001b[1;32m      5\u001b[0m \u001b[0mHTML\u001b[0m\u001b[0;34m(\u001b[0m\u001b[0mmaketable\u001b[0m\u001b[0;34m(\u001b[0m\u001b[0mT\u001b[0m\u001b[0;34m.\u001b[0m\u001b[0mT\u001b[0m\u001b[0;34m,\u001b[0m \u001b[0mH\u001b[0m\u001b[0;34m.\u001b[0m\u001b[0mT\u001b[0m\u001b[0;34m,\u001b[0m \u001b[0mG\u001b[0m\u001b[0;34m.\u001b[0m\u001b[0mT\u001b[0m\u001b[0;34m,\u001b[0m \u001b[0mrnames\u001b[0m\u001b[0;34m,\u001b[0m \u001b[0mnames\u001b[0m\u001b[0;34m)\u001b[0m\u001b[0;34m)\u001b[0m\u001b[0;34m\u001b[0m\u001b[0m\n",
      "\u001b[0;32m<ipython-input-90-f5ca5d11cb0b>\u001b[0m in \u001b[0;36mfind_R_P\u001b[0;34m(R, P)\u001b[0m\n\u001b[1;32m     16\u001b[0m     \u001b[0;32mfor\u001b[0m \u001b[0mi\u001b[0m \u001b[0;32min\u001b[0m \u001b[0mxrange\u001b[0m\u001b[0;34m(\u001b[0m\u001b[0;36m100000\u001b[0m\u001b[0;34m)\u001b[0m\u001b[0;34m:\u001b[0m\u001b[0;34m\u001b[0m\u001b[0m\n\u001b[1;32m     17\u001b[0m         \u001b[0mRP\u001b[0m \u001b[0;34m=\u001b[0m \u001b[0mnp\u001b[0m\u001b[0;34m.\u001b[0m\u001b[0mdot\u001b[0m\u001b[0;34m(\u001b[0m\u001b[0mR\u001b[0m\u001b[0;34m.\u001b[0m\u001b[0mT\u001b[0m\u001b[0;34m,\u001b[0m \u001b[0mP\u001b[0m\u001b[0;34m)\u001b[0m\u001b[0;34m\u001b[0m\u001b[0m\n\u001b[0;32m---> 18\u001b[0;31m         \u001b[0mHT\u001b[0m \u001b[0;34m=\u001b[0m \u001b[0;34m(\u001b[0m\u001b[0;36m2\u001b[0m \u001b[0;34m*\u001b[0m \u001b[0mh\u001b[0m \u001b[0;34m*\u001b[0m \u001b[0ml\u001b[0m\u001b[0;34m)\u001b[0m \u001b[0;34m*\u001b[0m \u001b[0;34m(\u001b[0m  \u001b[0;34m(\u001b[0m\u001b[0ma\u001b[0m \u001b[0;34m*\u001b[0m \u001b[0mtheta\u001b[0m\u001b[0;34m(\u001b[0m\u001b[0mRP\u001b[0m\u001b[0;34m)\u001b[0m\u001b[0;34m)\u001b[0m \u001b[0;34m+\u001b[0m \u001b[0md\u001b[0m \u001b[0;34m-\u001b[0m \u001b[0mT\u001b[0m  \u001b[0;34m)\u001b[0m \u001b[0;34m*\u001b[0m \u001b[0;34m(\u001b[0m  \u001b[0;34m(\u001b[0m\u001b[0ma\u001b[0m \u001b[0;34m*\u001b[0m \u001b[0mnp\u001b[0m\u001b[0;34m.\u001b[0m\u001b[0mexp\u001b[0m\u001b[0;34m(\u001b[0m\u001b[0;34m-\u001b[0m\u001b[0mRP\u001b[0m\u001b[0;34m)\u001b[0m\u001b[0;34m)\u001b[0m\u001b[0;34m/\u001b[0m\u001b[0;34m(\u001b[0m\u001b[0;36m1\u001b[0m \u001b[0;34m+\u001b[0m \u001b[0mnp\u001b[0m\u001b[0;34m.\u001b[0m\u001b[0mexp\u001b[0m\u001b[0;34m(\u001b[0m\u001b[0;34m-\u001b[0m\u001b[0mRP\u001b[0m\u001b[0;34m)\u001b[0m\u001b[0;34m)\u001b[0m\u001b[0;34m**\u001b[0m\u001b[0;36m2\u001b[0m  \u001b[0;34m)\u001b[0m\u001b[0;34m\u001b[0m\u001b[0m\n\u001b[0m\u001b[1;32m     19\u001b[0m \u001b[0;34m\u001b[0m\u001b[0m\n\u001b[1;32m     20\u001b[0m         \u001b[0mP\u001b[0m \u001b[0;34m=\u001b[0m \u001b[0mP\u001b[0m \u001b[0;34m-\u001b[0m \u001b[0mnp\u001b[0m\u001b[0;34m.\u001b[0m\u001b[0mdot\u001b[0m\u001b[0;34m(\u001b[0m\u001b[0mR\u001b[0m\u001b[0;34m,\u001b[0m \u001b[0mHT\u001b[0m\u001b[0;34m)\u001b[0m\u001b[0;34m\u001b[0m\u001b[0m\n",
      "\u001b[0;31mNameError\u001b[0m: global name 'h' is not defined"
     ]
    }
   ],
   "source": [
    "l = 0.005\n",
    "\n",
    "a = 5\n",
    "def theta(s):\n",
    "    return (1./(1 + np.exp(-s)))\n",
    "\n",
    "def find_R_P(R, P):\n",
    "    l = 0.001\n",
    "    \n",
    "    for i in xrange(100000):\n",
    "        RP = np.dot(R.T, P)\n",
    "        HT = (2 * H * l) * (  (a * theta(RP)) + d - T  ) * (  (a * np.exp(-RP))/(1 + np.exp(-RP))**2  )\n",
    "        \n",
    "        P = P - np.dot(R, HT)\n",
    "        R = R - np.dot(P, HT.T)\n",
    "    return R, P\n",
    "\n",
    "R,P = find_R_P(R,P)\n",
    "\n",
    "G = guess(R,P)\n",
    "\n",
    "HTML(maketable(T.T, H.T, G.T, rnames, names))\n",
    "\n"
   ]
  },
  {
   "cell_type": "code",
   "execution_count": null,
   "metadata": {
    "collapsed": true
   },
   "outputs": [],
   "source": []
  },
  {
   "cell_type": "code",
   "execution_count": null,
   "metadata": {
    "collapsed": true
   },
   "outputs": [],
   "source": []
  }
 ],
 "metadata": {
  "kernelspec": {
   "display_name": "Python 2",
   "language": "python",
   "name": "python2"
  },
  "language_info": {
   "codemirror_mode": {
    "name": "ipython",
    "version": 2
   },
   "file_extension": ".py",
   "mimetype": "text/x-python",
   "name": "python",
   "nbconvert_exporter": "python",
   "pygments_lexer": "ipython2",
   "version": "2.7.13"
  }
 },
 "nbformat": 4,
 "nbformat_minor": 0
}
