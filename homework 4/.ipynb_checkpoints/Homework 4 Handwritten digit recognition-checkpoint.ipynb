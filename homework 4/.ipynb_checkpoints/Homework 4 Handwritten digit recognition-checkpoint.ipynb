{
 "cells": [
  {
   "cell_type": "markdown",
   "metadata": {},
   "source": [
    "# Homework 4\n",
    "\n",
    "In this homework you will get to build a class to classify handwritten digit.\n",
    "\n",
    "The data is given in 'usps_resampled/usps_resampled.mat' Here is how you use the data"
   ]
  },
  {
   "cell_type": "code",
   "execution_count": 1,
   "metadata": {
    "collapsed": false
   },
   "outputs": [
    {
     "name": "stdout",
     "output_type": "stream",
     "text": [
      "['train_labels', 'test_labels', 'train_patterns', '__header__', '__globals__', 'test_patterns', '__version__']\n"
     ]
    }
   ],
   "source": [
    "%matplotlib inline\n",
    "from scipy.io import loadmat\n",
    "import numpy as np\n",
    "from matplotlib import pyplot as plt\n",
    "import matplotlib.cm as cm\n",
    "\n",
    "D = loadmat('usps_resampled/usps_resampled.mat')\n",
    "print D.keys()\n",
    "#it is a dictionary of four elements\n",
    "# train_labels for the number of each training image\n",
    "# train_patterns for the train images\n",
    "# test_labels\n",
    "# test_patterns"
   ]
  },
  {
   "cell_type": "code",
   "execution_count": 2,
   "metadata": {
    "collapsed": false
   },
   "outputs": [
    {
     "data": {
      "image/png": "[encoded data removed]",
      "text/plain": [
       "<matplotlib.figure.Figure at 0x1135dd7d0>"
      ]
     },
     "metadata": {},
     "output_type": "display_data"
    }
   ],
   "source": [
    "#this is how you plot each image\n",
    "images = D['train_patterns']\n",
    "\n",
    "def show(img):\n",
    "    im = img.reshape(16,16) #you can try print it\n",
    "    plt.imshow(im, interpolation='nearest', cmap=cm.Greys)\n",
    "show(images[:, 0])"
   ]
  },
  {
   "cell_type": "code",
   "execution_count": 3,
   "metadata": {
    "collapsed": false
   },
   "outputs": [
    {
     "name": "stdout",
     "output_type": "stream",
     "text": [
      "[-1 -1 -1 -1 -1 -1  1 -1 -1 -1]\n",
      "1\n",
      "[6 0 1 ..., 9 2 7]\n"
     ]
    }
   ],
   "source": [
    "#This is how label is read\n",
    "labels = D['train_labels'].T\n",
    "#this is how they represent 6\n",
    "print labels[0] \n",
    "print labels[0,6]\n",
    "\n",
    "def make_class(c):\n",
    "    return list(c).index(1)\n",
    "labels = np.array([make_class(lb) for lb in labels])\n",
    "print labels #more readable"
   ]
  },
  {
   "cell_type": "code",
   "execution_count": 4,
   "metadata": {
    "collapsed": false
   },
   "outputs": [
    {
     "data": {
      "text/plain": [
       "array([-1, -1, -1, -1,  1, -1, -1, -1, -1, -1], dtype=int16)"
      ]
     },
     "execution_count": 4,
     "metadata": {},
     "output_type": "execute_result"
    },
    {
     "data": {
      "image/png": "[encoded data removed]",
      "text/plain": [
       "<matplotlib.figure.Figure at 0x10c1bf490>"
      ]
     },
     "metadata": {},
     "output_type": "display_data"
    }
   ],
   "source": [
    "test_images = D['test_patterns']\n",
    "show(test_images[:,8])\n",
    "test_labels = D['test_labels']\n",
    "test_labels[:,8]\n"
   ]
  },
  {
   "cell_type": "markdown",
   "metadata": {},
   "source": [
    "1 ) Find principal components of the train dataset. Print out first 5 vectors."
   ]
  },
  {
   "cell_type": "code",
   "execution_count": 5,
   "metadata": {
    "collapsed": false
   },
   "outputs": [
    {
     "data": {
      "text/plain": [
       "array([[-0.99999988, -0.99999982, -0.99999988, ..., -0.9999997 ,\n",
       "        -0.99997759, -0.99993992],\n",
       "       [-0.9999997 , -0.99999845, -0.99999988, ..., -0.99996912,\n",
       "        -0.99797225, -0.99719542],\n",
       "       [-0.99998665, -0.99989259, -0.99999988, ..., -0.9983288 ,\n",
       "        -0.96142083, -0.95687085],\n",
       "       [-0.99946642, -0.99628389, -0.99998736, ..., -0.97369099,\n",
       "        -0.75660157, -0.77581352],\n",
       "       [-0.99005735, -0.94368517, -0.99870199, ..., -0.85942686,\n",
       "        -0.31030527, -0.53804946]])"
      ]
     },
     "execution_count": 5,
     "metadata": {},
     "output_type": "execute_result"
    }
   ],
   "source": [
    "images[:5]"
   ]
  },
  {
   "cell_type": "markdown",
   "metadata": {},
   "source": [
    "2) Plot the variance explained by $k$ principal with largest variance VS $k$. The variance explained by $k$ eigenvector is given by (remember that you can add the variance).\n",
    "$$ \\text{Explained Variance} = \\frac{\\displaystyle\\sum_{i=0}^k \\lambda_i}{\\displaystyle\\sum_{i=0}^n \\lambda_i}$$\n",
    "\n",
    "where $n$ is the total number of principal component"
   ]
  },
  {
   "cell_type": "code",
   "execution_count": 6,
   "metadata": {
    "collapsed": false
   },
   "outputs": [
    {
     "data": {
      "text/plain": [
       "[<matplotlib.lines.Line2D at 0x1180e5f50>]"
      ]
     },
     "execution_count": 6,
     "metadata": {},
     "output_type": "execute_result"
    },
    {
     "data": {
      "image/png": "[encoded data removed]",
      "text/plain": [
       "<matplotlib.figure.Figure at 0x117ded090>"
      ]
     },
     "metadata": {},
     "output_type": "display_data"
    }
   ],
   "source": [
    "#The goal of this question is to show how as the number of priniciple components increases\n",
    "#and how the clarity of the images changes. And it shows the diminishing return\n",
    "\n",
    "#normalize, i.e mean = 0\n",
    "#standad deviation of images vectors\n",
    "def normalize(xs):\n",
    "    mean = np.mean(xs, axis = 1)\n",
    "    norm_xs = xs - mean[:,np.newaxis]\n",
    "    norm_xs = norm_xs / np.std(norm_xs, axis = 1)[:, np.newaxis]\n",
    "    return norm_xs\n",
    "#gets the eigen value from normailzed data\n",
    "def getEigen(norm_xs):\n",
    "    #print norm_xs.shape\n",
    "    cov = np.cov(norm_images)\n",
    "    #print cov.shape\n",
    "    evals,evecs = np.linalg.eigh(cov)\n",
    "    evals = evals[::-1]\n",
    "    return evals,evecs\n",
    "#\n",
    "def largest_kPrinicple_VS_k(evals):\n",
    "    k_prin= [k for k in range(len(evals))]\n",
    "    nSum = sum(evals)\n",
    "    k_prin_var = [sum(evals[:k])/nSum for k in k_prin]\n",
    "    return k_prin,k_prin_var\n",
    "\n",
    "def plot_data(xs):\n",
    "    plt.plot(xs[0], xs[1], '.')\n",
    "    plt.grid(True)\n",
    "    \n",
    "    \n",
    "    \n",
    "norm_images = normalize(images)\n",
    "#plot_data(norm_images)\n",
    "evals,evecs = getEigen(norm_images)\n",
    "k_prin,k_prin_var = largest_kPrinicple_VS_k(evals)\n",
    "plt.plot(k_prin,k_prin_var)\n"
   ]
  },
  {
   "cell_type": "markdown",
   "metadata": {},
   "source": [
    "3) If we want to explain 85% of the variance how many principal component do we need."
   ]
  },
  {
   "cell_type": "code",
   "execution_count": 7,
   "metadata": {
    "collapsed": false
   },
   "outputs": [],
   "source": [
    "#It's asking how many prinicple components we need to make the photo clear, with a 85% clarity\n",
    "def get_number_of_prinicple_components(percent,k_prin_var):\n",
    "    for index in range(len(k_prin_var)):\n",
    "        if k_prin_var[index] >= percent:\n",
    "            return index\n",
    "            \n",
    "k = get_number_of_prinicple_components(0.85,k_prin_var)\n",
    "#k = 20\n",
    "    "
   ]
  },
  {
   "cell_type": "markdown",
   "metadata": {},
   "source": [
    "4) For all train images find the feature in new coordinate. The number of principal component you should use is what you found in 3)"
   ]
  },
  {
   "cell_type": "code",
   "execution_count": 8,
   "metadata": {
    "collapsed": false
   },
   "outputs": [],
   "source": [
    "kprin_images = np.dot(evecs[:k], norm_images)"
   ]
  },
  {
   "cell_type": "markdown",
   "metadata": {},
   "source": [
    "5) We want to classify this with ECOC using One VS One matrix. \n",
    "\n",
    "Use scikit learn(make sure you are using recent version) to do this. Try use SVM(any kernel you want). We will learn how the SVM magic work later. \n",
    "\n",
    "http://scikit-learn.org/stable/modules/svm.html\n",
    "\n",
    "Find E_out from your test data set."
   ]
  },
  {
   "cell_type": "code",
   "execution_count": 10,
   "metadata": {
    "collapsed": false
   },
   "outputs": [
    {
     "name": "stdout",
     "output_type": "stream",
     "text": [
      " E_in 0.954183695418\n",
      "E_out 0.925145192515\n"
     ]
    }
   ],
   "source": [
    "from sklearn import svm\n",
    "\n",
    "clf = svm.SVC(decision_function_shape='ovo')\n",
    "clf.fit(kprin_images.T, labels) \n",
    "normalized_test_images = normalize(D['test_patterns'])\n",
    "test_labels = D['test_labels'].T\n",
    "test_labels = np.array([make_class(lb) for lb in test_labels])\n",
    "kprin_test_images = np.dot(evecs[:k], normalized_test_images)\n",
    "n_feature, n_images = kprin_test_images.shape\n",
    "count_incorrect = 0\n",
    "count_correct = 0\n",
    "\n",
    "\n",
    "for i in range(n_images):\n",
    "    classification = clf.predict(kprin_images[:,i].reshape(1, -1))[0]\n",
    "    if(labels[i] == classification):\n",
    "        count_correct += 1\n",
    "    else:\n",
    "        count_incorrect += 1\n",
    "total = count_correct + count_incorrect\n",
    "print \"E_in\", float(count_correct)/float(total)\n",
    "count_incorrect = 0\n",
    "count_correct = 0\n",
    "for i in range(n_images):\n",
    "    classification = clf.predict(kprin_test_images[:,i].reshape(1, -1))[0]\n",
    "    if(test_labels[i] == classification):\n",
    "        count_correct += 1\n",
    "    else:\n",
    "        count_incorrect += 1\n",
    "total = float(count_incorrect + count_correct)\n",
    "print \"E_out\", count_correct/(total)"
   ]
  },
  {
   "cell_type": "code",
   "execution_count": null,
   "metadata": {
    "collapsed": false
   },
   "outputs": [],
   "source": []
  },
  {
   "cell_type": "code",
   "execution_count": null,
   "metadata": {
    "collapsed": false
   },
   "outputs": [],
   "source": []
  },
  {
   "cell_type": "code",
   "execution_count": null,
   "metadata": {
    "collapsed": true
   },
   "outputs": [],
   "source": []
  },
  {
   "cell_type": "code",
   "execution_count": null,
   "metadata": {
    "collapsed": true
   },
   "outputs": [],
   "source": []
  }
 ],
 "metadata": {
  "kernelspec": {
   "display_name": "Python 2",
   "language": "python",
   "name": "python2"
  },
  "language_info": {
   "codemirror_mode": {
    "name": "ipython",
    "version": 2
   },
   "file_extension": ".py",
   "mimetype": "text/x-python",
   "name": "python",
   "nbconvert_exporter": "python",
   "pygments_lexer": "ipython2",
   "version": "2.7.13"
  }
 },
 "nbformat": 4,
 "nbformat_minor": 0
}
